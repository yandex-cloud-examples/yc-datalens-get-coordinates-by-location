{
 "cells": [
  {
   "cell_type": "markdown",
   "id": "af6b7f09",
   "metadata": {},
   "source": [
    "В этом примере мы покажем, как с помощью API Яндекс.Геокодера можно преобразовать адреса в геокоординаты, с которым можно работать в [Datalens](https://datalens.yandex.ru)"
   ]
  },
  {
   "cell_type": "markdown",
   "id": "7716da26",
   "metadata": {},
   "source": [
    "## Установка библиотек\n",
    "\n",
    " * requests для API Геокодера\n",
    " * clickhouse-driver для Clickhouse"
   ]
  },
  {
   "cell_type": "code",
   "execution_count": 1,
   "id": "762e8efd",
   "metadata": {},
   "outputs": [
    {
     "name": "stdout",
     "output_type": "stream",
     "text": [
      "Requirement already satisfied: requests in /Users/thenno/.virtualenvs/jupyter/lib/python3.10/site-packages (2.28.1)\n",
      "Requirement already satisfied: urllib3<1.27,>=1.21.1 in /Users/thenno/.virtualenvs/jupyter/lib/python3.10/site-packages (from requests) (1.26.12)\n",
      "Requirement already satisfied: certifi>=2017.4.17 in /Users/thenno/.virtualenvs/jupyter/lib/python3.10/site-packages (from requests) (2022.6.15)\n",
      "Requirement already satisfied: charset-normalizer<3,>=2 in /Users/thenno/.virtualenvs/jupyter/lib/python3.10/site-packages (from requests) (2.1.1)\n",
      "Requirement already satisfied: idna<4,>=2.5 in /Users/thenno/.virtualenvs/jupyter/lib/python3.10/site-packages (from requests) (3.3)\n",
      "Note: you may need to restart the kernel to use updated packages.\n"
     ]
    }
   ],
   "source": [
    "%pip install requests"
   ]
  },
  {
   "cell_type": "code",
   "execution_count": 2,
   "id": "c05d836f",
   "metadata": {},
   "outputs": [
    {
     "name": "stdout",
     "output_type": "stream",
     "text": [
      "Requirement already satisfied: clickhouse-driver in /Users/thenno/.virtualenvs/jupyter/lib/python3.10/site-packages (0.2.4)\n",
      "Requirement already satisfied: tzlocal in /Users/thenno/.virtualenvs/jupyter/lib/python3.10/site-packages (from clickhouse-driver) (4.2)\n",
      "Requirement already satisfied: pytz in /Users/thenno/.virtualenvs/jupyter/lib/python3.10/site-packages (from clickhouse-driver) (2022.2.1)\n",
      "Requirement already satisfied: pytz-deprecation-shim in /Users/thenno/.virtualenvs/jupyter/lib/python3.10/site-packages (from tzlocal->clickhouse-driver) (0.1.0.post0)\n",
      "Requirement already satisfied: tzdata in /Users/thenno/.virtualenvs/jupyter/lib/python3.10/site-packages (from pytz-deprecation-shim->tzlocal->clickhouse-driver) (2022.2)\n",
      "Note: you may need to restart the kernel to use updated packages.\n"
     ]
    }
   ],
   "source": [
    "%pip install clickhouse-driver"
   ]
  },
  {
   "cell_type": "markdown",
   "id": "c2c07183",
   "metadata": {},
   "source": [
    "## Получение ключа для API Геокодера\n",
    "\n",
    "В переменную API_KEY нужно записать свой ключ для API Геокодера.\n",
    "Получить ключ можно по [ссылке](https://yandex.ru/dev/maps/geocoder/)"
   ]
  },
  {
   "cell_type": "code",
   "execution_count": 3,
   "id": "6ce89553",
   "metadata": {},
   "outputs": [],
   "source": [
    "API_KEY = None"
   ]
  },
  {
   "cell_type": "markdown",
   "id": "c77a7ea8",
   "metadata": {},
   "source": [
    "## Работа с API Геокодера\n",
    "\n",
    "Напишем небольшой класс для работы с Геокодером"
   ]
  },
  {
   "cell_type": "code",
   "execution_count": 4,
   "id": "c09d95ed",
   "metadata": {},
   "outputs": [],
   "source": [
    "import requests\n",
    "from dataclasses import dataclass\n",
    "\n",
    "@dataclass\n",
    "class YandexGeocoder:\n",
    "    api_key: str\n",
    "    geocoder_url: str = 'https://geocode-maps.yandex.ru/1.x'\n",
    "\n",
    "    def adress_to_geopoint(self, address: str) -> str:\n",
    "        \"\"\"\n",
    "        Преобразование адреса в геокоординаты в формате Datalens\n",
    "        \"\"\"\n",
    "        response = requests.get(self.geocoder_url, params={\n",
    "            'apikey': self.api_key,\n",
    "            'geocode': address,\n",
    "            'format': 'json',\n",
    "        })\n",
    "        response.raise_for_status()\n",
    "\n",
    "        result = response.json()['response']['GeoObjectCollection']['featureMember']\n",
    "        if not result:\n",
    "            return None\n",
    "\n",
    "        lat, lon = result[0]['GeoObject']['Point']['pos'].split(' ')\n",
    "        return self._to_datalens_format(lon, lat)\n",
    "    \n",
    "    def _to_datalens_format(self, lon, lat):\n",
    "        return f'[{lon},{lat}]'"
   ]
  },
  {
   "cell_type": "markdown",
   "id": "72753994",
   "metadata": {},
   "source": [
    "## Получение данных\n",
    "\n",
    "Будем работать с данными из демонстрационного Clickhouse [Datalens](https://datalens.yandex.ru).\n",
    "\n",
    "На первом шаге подготовим клиент Clickhouse"
   ]
  },
  {
   "cell_type": "code",
   "execution_count": 5,
   "id": "a0d27692",
   "metadata": {},
   "outputs": [],
   "source": [
    "from clickhouse_driver import Client as CHClient\n",
    "\n",
    "ch_client = CHClient(\n",
    "    'rc1a-ckg8nrosr2lim5iz.mdb.yandexcloud.net',\n",
    "    user='samples_ro',\n",
    "    password='MsgfcjEhJk',\n",
    "    database='samples',\n",
    "    port=9440,\n",
    "    secure=True,\n",
    ")"
   ]
  },
  {
   "cell_type": "markdown",
   "id": "c5d2837a",
   "metadata": {},
   "source": [
    "Затем выгрузим данные из таблицы в переменную ch_data"
   ]
  },
  {
   "cell_type": "code",
   "execution_count": 6,
   "id": "d54f6eb6",
   "metadata": {},
   "outputs": [
    {
     "data": {
      "text/plain": [
       "[('Тау', 'город Москва, Флотская улица, дом 25'),\n",
       " ('Альфа', 'город Москва, Гвардейская улица, дом 15, корпус 2'),\n",
       " ('Бета', 'город Москва, Долгоруковская улица, дом 23, строение 1'),\n",
       " ('Гамма', 'город Москва, Лазоревый проезд, дом 15, строение 4'),\n",
       " ('Дельта', 'город Москва, микрорайон Северное Чертаново, дом 5, корпус Г'),\n",
       " ('Эпсилон', 'город Москва, Ореховый проезд, дом 17, корпус 2'),\n",
       " ('Дзета', 'город Москва, Рязанский проспект, дом 2, строение 24'),\n",
       " ('Эта', 'город Москва, улица Вилиса Лациса, дом 23, корпус 2'),\n",
       " ('Йота', 'город Москва, улица Газопровод, дом 9А'),\n",
       " ('Сигма', 'город Москва, улица Демьяна Бедного, дом 8'),\n",
       " ('Омега', 'город Москва, улица Новаторов, дом 4, корпус 8'),\n",
       " ('Каппа', 'город Москва, улица Стромынка, дом 6')]"
      ]
     },
     "execution_count": 6,
     "metadata": {},
     "output_type": "execute_result"
    }
   ],
   "source": [
    "ch_data = ch_client.execute('SELECT ShopName, ShopAddress FROM MS_Shops')\n",
    "ch_data"
   ]
  },
  {
   "cell_type": "markdown",
   "id": "09c92983",
   "metadata": {},
   "source": [
    "## Геокодирование\n",
    "\n",
    "Преобразуем адреса магазинов из колонки ShopAddress в геокоординаты"
   ]
  },
  {
   "cell_type": "code",
   "execution_count": 7,
   "id": "e01d79b3",
   "metadata": {},
   "outputs": [],
   "source": [
    "geocoder = YandexGeocoder(api_key=API_KEY)"
   ]
  },
  {
   "cell_type": "code",
   "execution_count": 8,
   "id": "d6a42111",
   "metadata": {},
   "outputs": [
    {
     "data": {
      "text/plain": [
       "[('Тау', '[55.861615,37.513134]'),\n",
       " ('Альфа', '[55.724763,37.422063]'),\n",
       " ('Бета', '[55.775788,37.602939]'),\n",
       " ('Гамма', '[55.853819,37.631308]'),\n",
       " ('Дельта', '[55.638053,37.591054]'),\n",
       " ('Эпсилон', '[55.623697,37.734084]'),\n",
       " ('Дзета', '[55.730694,37.735854]'),\n",
       " ('Эта', '[55.862015,37.422297]'),\n",
       " ('Йота', '[55.59103,37.606855]'),\n",
       " ('Сигма', '[55.772223,37.488053]'),\n",
       " ('Омега', '[55.665121,37.516934]'),\n",
       " ('Каппа', '[55.791243,37.687327]')]"
      ]
     },
     "execution_count": 8,
     "metadata": {},
     "output_type": "execute_result"
    }
   ],
   "source": [
    "encoded_data = [\n",
    "    (name, geocoder.adress_to_geopoint(adress))\n",
    "    for name, adress in ch_data\n",
    "]\n",
    "encoded_data"
   ]
  },
  {
   "cell_type": "markdown",
   "id": "f762470c",
   "metadata": {},
   "source": [
    "## Сохранение в Clickhouse\n",
    "\n"
   ]
  },
  {
   "cell_type": "markdown",
   "id": "9c293e84",
   "metadata": {},
   "source": [
    "Результат можно записать в Clickhouse. Для этого можно раскомментировать строки ниже и заполнить переменные USER_CH_HOST, USER_CH_PORT, USER_CH_USER и USER_CH_PASSWORD данными своей инсталяции базы.\n",
    "\n",
    "Из полученной таблицы можно создать подключение в [Datalens](https://datalens.yandex-team.ru/docs/operations/connection/create-clickhouse)\n",
    "\n",
    "При создании подключения для поля с координатами нужно выбрать тип [GEOPOINT](https://cloud.yandex.ru/docs/datalens/function-ref/GEOPOINT)"
   ]
  },
  {
   "cell_type": "code",
   "execution_count": 9,
   "id": "83f47a25",
   "metadata": {},
   "outputs": [],
   "source": [
    "# USER_CH_HOST = 'localhost'\n",
    "# USER_CH_PORT = 9000\n",
    "# USER_CH_USER = None\n",
    "# USER_CH_PASSWORD = None\n",
    "\n",
    "# ch_client = CHClient(\n",
    "#     USER_CH_HOST,\n",
    "#     user=USER_CH_USER,\n",
    "#     password=USER_CH_PASSWORD,\n",
    "#     port=USER_CH_PORT,\n",
    "#     secure=True,\n",
    "# )\n",
    "# ch_client.execute('DROP TABLE MS_Shops')\n",
    "# ch_client.execute(\n",
    "#     'CREATE TABLE IF NOT EXISTS MS_Shops (name String, adress String) ENGINE = MergeTree() ORDER BY name',\n",
    "# )\n",
    "# ch_client.execute(\n",
    "#     'INSERT INTO MS_Shops (name, adress) VALUES',\n",
    "#     [{'name': name, 'adress': adress} for name, adress in encoded_data],\n",
    "# )\n",
    "# ch_client.execute('SELECT * FROM MS_Shops')"
   ]
  },
  {
   "cell_type": "markdown",
   "id": "f739f070",
   "metadata": {},
   "source": [
    "## Сохранение в формате csv"
   ]
  },
  {
   "cell_type": "code",
   "execution_count": 10,
   "id": "32ab542c",
   "metadata": {},
   "outputs": [
    {
     "name": "stdout",
     "output_type": "stream",
     "text": [
      "Тау,\"[55.861615,37.513134]\"\r\n",
      "Альфа,\"[55.724763,37.422063]\"\r\n",
      "Бета,\"[55.775788,37.602939]\"\r\n",
      "Гамма,\"[55.853819,37.631308]\"\r\n",
      "Дельта,\"[55.638053,37.591054]\"\r\n",
      "Эпсилон,\"[55.623697,37.734084]\"\r\n",
      "Дзета,\"[55.730694,37.735854]\"\r\n",
      "Эта,\"[55.862015,37.422297]\"\r\n",
      "Йота,\"[55.59103,37.606855]\"\r\n",
      "Сигма,\"[55.772223,37.488053]\"\r\n",
      "Омега,\"[55.665121,37.516934]\"\r\n",
      "Каппа,\"[55.791243,37.687327]\"\r\n"
     ]
    }
   ],
   "source": [
    "import csv\n",
    "import sys\n",
    "\n",
    "csv_writer = csv.writer(\n",
    "    sys.stdout,\n",
    "    delimiter=',',\n",
    "    quotechar='\"',\n",
    "    quoting=csv.QUOTE_MINIMAL,\n",
    ")\n",
    "csv_writer.writerows(encoded_data)"
   ]
  },
  {
   "cell_type": "markdown",
   "id": "d1168e37",
   "metadata": {},
   "source": [
    "Результат можно записать в файл. Для этого можно раскомментировать строки ниже и при необходимости поменять имя файла в переменной filename.\n",
    "\n",
    "Из полученного csv можно создать файловое подключение в [Datalens](https://datalens.yandex.ru/connections/new/file)\n",
    "\n",
    "Поле с координатами при создании датасета будет иметь тип [GEOPOINT](https://cloud.yandex.ru/docs/datalens/function-ref/GEOPOINT)"
   ]
  },
  {
   "cell_type": "code",
   "execution_count": 11,
   "id": "a4e1c08b",
   "metadata": {},
   "outputs": [],
   "source": [
    "# filename = 'encoded_data.csv'\n",
    "\n",
    "# with open(filename, 'w') as f:\n",
    "#     csv_writer = csv.writer(\n",
    "#         f,\n",
    "#         delimiter=',',\n",
    "#         quotechar='\"',\n",
    "#     )\n",
    "#     csv_writer.writerows(encoded_data)"
   ]
  }
 ],
 "metadata": {
  "kernelspec": {
   "display_name": "Python 3 (ipykernel)",
   "language": "python",
   "name": "python3"
  },
  "language_info": {
   "codemirror_mode": {
    "name": "ipython",
    "version": 3
   },
   "file_extension": ".py",
   "mimetype": "text/x-python",
   "name": "python",
   "nbconvert_exporter": "python",
   "pygments_lexer": "ipython3",
   "version": "3.10.6"
  }
 },
 "nbformat": 4,
 "nbformat_minor": 5
}
